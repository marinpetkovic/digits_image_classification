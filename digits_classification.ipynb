{
  "nbformat": 4,
  "nbformat_minor": 0,
  "metadata": {
    "colab": {
      "name": "digits_classification.ipynb",
      "provenance": [],
      "collapsed_sections": []
    },
    "kernelspec": {
      "name": "python3",
      "display_name": "Python 3"
    },
    "language_info": {
      "name": "python"
    }
  },
  "cells": [
    {
      "cell_type": "markdown",
      "source": [
        "**Goal**: Try different image classifier models on the digits dataset from \n",
        "https://hastie.su.domains/ElemStatLearn/\n",
        "\n",
        "**Results:**\n",
        "\n",
        "\n",
        "*   KNN model: 94% accuracy\n",
        "*   Linear regression: 87% accuracy\n",
        "*   Neural network: 94% accuracy\n",
        "*   Convolutional neural network: 96% accuracy\n",
        "\n",
        "**Method:** We did not use cross validation, instead we do a quick hyperparameter tuning by hand. With more thorough search using cross validation, one could probably get slightly better precission.\n",
        "\n"
      ],
      "metadata": {
        "id": "Q71n4nBDAXmu"
      }
    },
    {
      "cell_type": "markdown",
      "source": [
        "Table of contents:\n",
        "1. Data Loading\n",
        "2. K Nearest neighbor\n",
        "3. Linear regression\n",
        "4. Neural Network (MLPClassifier)\n",
        "5. Convolutional Neural Network"
      ],
      "metadata": {
        "id": "uls1JM4o9phS"
      }
    },
    {
      "cell_type": "code",
      "execution_count": 1,
      "metadata": {
        "id": "W3qPh8y0btwr"
      },
      "outputs": [],
      "source": [
        "import numpy as np\n",
        "import pandas as pd\n",
        "import matplotlib.pyplot as plt\n",
        "import seaborn as sns\n",
        "\n",
        "import warnings\n",
        "warnings.filterwarnings(\"ignore\")"
      ]
    },
    {
      "cell_type": "markdown",
      "source": [
        "# 1. Data Loading"
      ],
      "metadata": {
        "id": "3EH0-xWb948k"
      }
    },
    {
      "cell_type": "code",
      "source": [
        "train_path = '/content/zip.train.gz'\n",
        "test_path = '/content/zip.test.gz'"
      ],
      "metadata": {
        "id": "99HLFeMEb2q6"
      },
      "execution_count": 2,
      "outputs": []
    },
    {
      "cell_type": "code",
      "source": [
        "train_data = pd.read_csv(train_path, names = range(257), compression='gzip', sep=' ')\n",
        "\n",
        "test_data = pd.read_csv(test_path, names = range(257), compression='gzip', sep=' ')"
      ],
      "metadata": {
        "id": "sJegdSqmcXYf"
      },
      "execution_count": 3,
      "outputs": []
    },
    {
      "cell_type": "code",
      "source": [
        "train_data"
      ],
      "metadata": {
        "colab": {
          "base_uri": "https://localhost:8080/",
          "height": 423
        },
        "id": "DZdoVYOadj2o",
        "outputId": "73164d8a-d8e9-4cde-d40c-2ab85e603239"
      },
      "execution_count": 4,
      "outputs": [
        {
          "output_type": "execute_result",
          "data": {
            "text/plain": [
              "     0    1    2      3      4      5      6      7      8      9    ...  \\\n",
              "6.0 -1.0 -1.0 -1.0 -1.000 -1.000 -1.000 -1.000 -0.631  0.862 -0.167  ...   \n",
              "5.0 -1.0 -1.0 -1.0 -0.813 -0.671 -0.809 -0.887 -0.671 -0.853 -1.000  ...   \n",
              "4.0 -1.0 -1.0 -1.0 -1.000 -1.000 -1.000 -1.000 -1.000 -1.000 -0.996  ...   \n",
              "7.0 -1.0 -1.0 -1.0 -1.000 -1.000 -0.273  0.684  0.960  0.450 -0.067  ...   \n",
              "3.0 -1.0 -1.0 -1.0 -1.000 -1.000 -0.928 -0.204  0.751  0.466  0.234  ...   \n",
              "..   ...  ...  ...    ...    ...    ...    ...    ...    ...    ...  ...   \n",
              "3.0 -1.0 -1.0 -1.0 -0.988 -0.527 -0.208  0.620  1.000  0.467  0.396  ...   \n",
              "3.0 -1.0 -1.0 -1.0 -0.990  0.708  0.557  0.347 -0.107 -0.758 -0.975  ...   \n",
              "3.0 -1.0 -1.0 -1.0 -0.783 -0.984 -0.827  0.068  1.000  1.000  1.000  ...   \n",
              "0.0 -1.0 -1.0 -1.0 -1.000 -1.000 -0.549  0.463  0.999  0.999  0.999  ...   \n",
              "1.0 -1.0 -1.0 -1.0 -1.000 -1.000 -0.108  1.000  0.616 -0.867 -1.000  ...   \n",
              "\n",
              "       247    248    249    250    251    252    253    254  255  256  \n",
              "6.0  0.823  1.000  0.482 -0.474 -0.991 -1.000 -1.000 -1.000 -1.0  NaN  \n",
              "5.0 -0.671 -0.033  0.761  0.762  0.126 -0.095 -0.671 -0.828 -1.0  NaN  \n",
              "4.0 -1.000 -1.000 -0.109  1.000 -0.179 -1.000 -1.000 -1.000 -1.0  NaN  \n",
              "7.0  1.000  0.536 -0.987 -1.000 -1.000 -1.000 -1.000 -1.000 -1.0  NaN  \n",
              "3.0  0.639  1.000  1.000  0.791  0.439 -0.199 -0.883 -1.000 -1.0  NaN  \n",
              "..     ...    ...    ...    ...    ...    ...    ...    ...  ...  ...  \n",
              "3.0  0.899  0.416 -0.510 -1.000 -1.000 -1.000 -1.000 -1.000 -1.0  NaN  \n",
              "3.0  0.636  0.167 -0.968 -1.000 -1.000 -1.000 -1.000 -1.000 -1.0  NaN  \n",
              "3.0  1.000  1.000  0.727 -0.342 -0.933 -1.000 -1.000 -1.000 -1.0  NaN  \n",
              "0.0  0.621  0.999 -0.042 -0.231 -0.687 -1.000 -1.000 -1.000 -1.0  NaN  \n",
              "1.0  0.803  0.589 -0.907 -1.000 -1.000 -1.000 -1.000 -1.000 -1.0  NaN  \n",
              "\n",
              "[7291 rows x 257 columns]"
            ],
            "text/html": [
              "\n",
              "  <div id=\"df-6893a963-d8bf-445b-aaaa-254f5f2a58fd\">\n",
              "    <div class=\"colab-df-container\">\n",
              "      <div>\n",
              "<style scoped>\n",
              "    .dataframe tbody tr th:only-of-type {\n",
              "        vertical-align: middle;\n",
              "    }\n",
              "\n",
              "    .dataframe tbody tr th {\n",
              "        vertical-align: top;\n",
              "    }\n",
              "\n",
              "    .dataframe thead th {\n",
              "        text-align: right;\n",
              "    }\n",
              "</style>\n",
              "<table border=\"1\" class=\"dataframe\">\n",
              "  <thead>\n",
              "    <tr style=\"text-align: right;\">\n",
              "      <th></th>\n",
              "      <th>0</th>\n",
              "      <th>1</th>\n",
              "      <th>2</th>\n",
              "      <th>3</th>\n",
              "      <th>4</th>\n",
              "      <th>5</th>\n",
              "      <th>6</th>\n",
              "      <th>7</th>\n",
              "      <th>8</th>\n",
              "      <th>9</th>\n",
              "      <th>...</th>\n",
              "      <th>247</th>\n",
              "      <th>248</th>\n",
              "      <th>249</th>\n",
              "      <th>250</th>\n",
              "      <th>251</th>\n",
              "      <th>252</th>\n",
              "      <th>253</th>\n",
              "      <th>254</th>\n",
              "      <th>255</th>\n",
              "      <th>256</th>\n",
              "    </tr>\n",
              "  </thead>\n",
              "  <tbody>\n",
              "    <tr>\n",
              "      <th>6.0</th>\n",
              "      <td>-1.0</td>\n",
              "      <td>-1.0</td>\n",
              "      <td>-1.0</td>\n",
              "      <td>-1.000</td>\n",
              "      <td>-1.000</td>\n",
              "      <td>-1.000</td>\n",
              "      <td>-1.000</td>\n",
              "      <td>-0.631</td>\n",
              "      <td>0.862</td>\n",
              "      <td>-0.167</td>\n",
              "      <td>...</td>\n",
              "      <td>0.823</td>\n",
              "      <td>1.000</td>\n",
              "      <td>0.482</td>\n",
              "      <td>-0.474</td>\n",
              "      <td>-0.991</td>\n",
              "      <td>-1.000</td>\n",
              "      <td>-1.000</td>\n",
              "      <td>-1.000</td>\n",
              "      <td>-1.0</td>\n",
              "      <td>NaN</td>\n",
              "    </tr>\n",
              "    <tr>\n",
              "      <th>5.0</th>\n",
              "      <td>-1.0</td>\n",
              "      <td>-1.0</td>\n",
              "      <td>-1.0</td>\n",
              "      <td>-0.813</td>\n",
              "      <td>-0.671</td>\n",
              "      <td>-0.809</td>\n",
              "      <td>-0.887</td>\n",
              "      <td>-0.671</td>\n",
              "      <td>-0.853</td>\n",
              "      <td>-1.000</td>\n",
              "      <td>...</td>\n",
              "      <td>-0.671</td>\n",
              "      <td>-0.033</td>\n",
              "      <td>0.761</td>\n",
              "      <td>0.762</td>\n",
              "      <td>0.126</td>\n",
              "      <td>-0.095</td>\n",
              "      <td>-0.671</td>\n",
              "      <td>-0.828</td>\n",
              "      <td>-1.0</td>\n",
              "      <td>NaN</td>\n",
              "    </tr>\n",
              "    <tr>\n",
              "      <th>4.0</th>\n",
              "      <td>-1.0</td>\n",
              "      <td>-1.0</td>\n",
              "      <td>-1.0</td>\n",
              "      <td>-1.000</td>\n",
              "      <td>-1.000</td>\n",
              "      <td>-1.000</td>\n",
              "      <td>-1.000</td>\n",
              "      <td>-1.000</td>\n",
              "      <td>-1.000</td>\n",
              "      <td>-0.996</td>\n",
              "      <td>...</td>\n",
              "      <td>-1.000</td>\n",
              "      <td>-1.000</td>\n",
              "      <td>-0.109</td>\n",
              "      <td>1.000</td>\n",
              "      <td>-0.179</td>\n",
              "      <td>-1.000</td>\n",
              "      <td>-1.000</td>\n",
              "      <td>-1.000</td>\n",
              "      <td>-1.0</td>\n",
              "      <td>NaN</td>\n",
              "    </tr>\n",
              "    <tr>\n",
              "      <th>7.0</th>\n",
              "      <td>-1.0</td>\n",
              "      <td>-1.0</td>\n",
              "      <td>-1.0</td>\n",
              "      <td>-1.000</td>\n",
              "      <td>-1.000</td>\n",
              "      <td>-0.273</td>\n",
              "      <td>0.684</td>\n",
              "      <td>0.960</td>\n",
              "      <td>0.450</td>\n",
              "      <td>-0.067</td>\n",
              "      <td>...</td>\n",
              "      <td>1.000</td>\n",
              "      <td>0.536</td>\n",
              "      <td>-0.987</td>\n",
              "      <td>-1.000</td>\n",
              "      <td>-1.000</td>\n",
              "      <td>-1.000</td>\n",
              "      <td>-1.000</td>\n",
              "      <td>-1.000</td>\n",
              "      <td>-1.0</td>\n",
              "      <td>NaN</td>\n",
              "    </tr>\n",
              "    <tr>\n",
              "      <th>3.0</th>\n",
              "      <td>-1.0</td>\n",
              "      <td>-1.0</td>\n",
              "      <td>-1.0</td>\n",
              "      <td>-1.000</td>\n",
              "      <td>-1.000</td>\n",
              "      <td>-0.928</td>\n",
              "      <td>-0.204</td>\n",
              "      <td>0.751</td>\n",
              "      <td>0.466</td>\n",
              "      <td>0.234</td>\n",
              "      <td>...</td>\n",
              "      <td>0.639</td>\n",
              "      <td>1.000</td>\n",
              "      <td>1.000</td>\n",
              "      <td>0.791</td>\n",
              "      <td>0.439</td>\n",
              "      <td>-0.199</td>\n",
              "      <td>-0.883</td>\n",
              "      <td>-1.000</td>\n",
              "      <td>-1.0</td>\n",
              "      <td>NaN</td>\n",
              "    </tr>\n",
              "    <tr>\n",
              "      <th>...</th>\n",
              "      <td>...</td>\n",
              "      <td>...</td>\n",
              "      <td>...</td>\n",
              "      <td>...</td>\n",
              "      <td>...</td>\n",
              "      <td>...</td>\n",
              "      <td>...</td>\n",
              "      <td>...</td>\n",
              "      <td>...</td>\n",
              "      <td>...</td>\n",
              "      <td>...</td>\n",
              "      <td>...</td>\n",
              "      <td>...</td>\n",
              "      <td>...</td>\n",
              "      <td>...</td>\n",
              "      <td>...</td>\n",
              "      <td>...</td>\n",
              "      <td>...</td>\n",
              "      <td>...</td>\n",
              "      <td>...</td>\n",
              "      <td>...</td>\n",
              "    </tr>\n",
              "    <tr>\n",
              "      <th>3.0</th>\n",
              "      <td>-1.0</td>\n",
              "      <td>-1.0</td>\n",
              "      <td>-1.0</td>\n",
              "      <td>-0.988</td>\n",
              "      <td>-0.527</td>\n",
              "      <td>-0.208</td>\n",
              "      <td>0.620</td>\n",
              "      <td>1.000</td>\n",
              "      <td>0.467</td>\n",
              "      <td>0.396</td>\n",
              "      <td>...</td>\n",
              "      <td>0.899</td>\n",
              "      <td>0.416</td>\n",
              "      <td>-0.510</td>\n",
              "      <td>-1.000</td>\n",
              "      <td>-1.000</td>\n",
              "      <td>-1.000</td>\n",
              "      <td>-1.000</td>\n",
              "      <td>-1.000</td>\n",
              "      <td>-1.0</td>\n",
              "      <td>NaN</td>\n",
              "    </tr>\n",
              "    <tr>\n",
              "      <th>3.0</th>\n",
              "      <td>-1.0</td>\n",
              "      <td>-1.0</td>\n",
              "      <td>-1.0</td>\n",
              "      <td>-0.990</td>\n",
              "      <td>0.708</td>\n",
              "      <td>0.557</td>\n",
              "      <td>0.347</td>\n",
              "      <td>-0.107</td>\n",
              "      <td>-0.758</td>\n",
              "      <td>-0.975</td>\n",
              "      <td>...</td>\n",
              "      <td>0.636</td>\n",
              "      <td>0.167</td>\n",
              "      <td>-0.968</td>\n",
              "      <td>-1.000</td>\n",
              "      <td>-1.000</td>\n",
              "      <td>-1.000</td>\n",
              "      <td>-1.000</td>\n",
              "      <td>-1.000</td>\n",
              "      <td>-1.0</td>\n",
              "      <td>NaN</td>\n",
              "    </tr>\n",
              "    <tr>\n",
              "      <th>3.0</th>\n",
              "      <td>-1.0</td>\n",
              "      <td>-1.0</td>\n",
              "      <td>-1.0</td>\n",
              "      <td>-0.783</td>\n",
              "      <td>-0.984</td>\n",
              "      <td>-0.827</td>\n",
              "      <td>0.068</td>\n",
              "      <td>1.000</td>\n",
              "      <td>1.000</td>\n",
              "      <td>1.000</td>\n",
              "      <td>...</td>\n",
              "      <td>1.000</td>\n",
              "      <td>1.000</td>\n",
              "      <td>0.727</td>\n",
              "      <td>-0.342</td>\n",
              "      <td>-0.933</td>\n",
              "      <td>-1.000</td>\n",
              "      <td>-1.000</td>\n",
              "      <td>-1.000</td>\n",
              "      <td>-1.0</td>\n",
              "      <td>NaN</td>\n",
              "    </tr>\n",
              "    <tr>\n",
              "      <th>0.0</th>\n",
              "      <td>-1.0</td>\n",
              "      <td>-1.0</td>\n",
              "      <td>-1.0</td>\n",
              "      <td>-1.000</td>\n",
              "      <td>-1.000</td>\n",
              "      <td>-0.549</td>\n",
              "      <td>0.463</td>\n",
              "      <td>0.999</td>\n",
              "      <td>0.999</td>\n",
              "      <td>0.999</td>\n",
              "      <td>...</td>\n",
              "      <td>0.621</td>\n",
              "      <td>0.999</td>\n",
              "      <td>-0.042</td>\n",
              "      <td>-0.231</td>\n",
              "      <td>-0.687</td>\n",
              "      <td>-1.000</td>\n",
              "      <td>-1.000</td>\n",
              "      <td>-1.000</td>\n",
              "      <td>-1.0</td>\n",
              "      <td>NaN</td>\n",
              "    </tr>\n",
              "    <tr>\n",
              "      <th>1.0</th>\n",
              "      <td>-1.0</td>\n",
              "      <td>-1.0</td>\n",
              "      <td>-1.0</td>\n",
              "      <td>-1.000</td>\n",
              "      <td>-1.000</td>\n",
              "      <td>-0.108</td>\n",
              "      <td>1.000</td>\n",
              "      <td>0.616</td>\n",
              "      <td>-0.867</td>\n",
              "      <td>-1.000</td>\n",
              "      <td>...</td>\n",
              "      <td>0.803</td>\n",
              "      <td>0.589</td>\n",
              "      <td>-0.907</td>\n",
              "      <td>-1.000</td>\n",
              "      <td>-1.000</td>\n",
              "      <td>-1.000</td>\n",
              "      <td>-1.000</td>\n",
              "      <td>-1.000</td>\n",
              "      <td>-1.0</td>\n",
              "      <td>NaN</td>\n",
              "    </tr>\n",
              "  </tbody>\n",
              "</table>\n",
              "<p>7291 rows × 257 columns</p>\n",
              "</div>\n",
              "      <button class=\"colab-df-convert\" onclick=\"convertToInteractive('df-6893a963-d8bf-445b-aaaa-254f5f2a58fd')\"\n",
              "              title=\"Convert this dataframe to an interactive table.\"\n",
              "              style=\"display:none;\">\n",
              "        \n",
              "  <svg xmlns=\"http://www.w3.org/2000/svg\" height=\"24px\"viewBox=\"0 0 24 24\"\n",
              "       width=\"24px\">\n",
              "    <path d=\"M0 0h24v24H0V0z\" fill=\"none\"/>\n",
              "    <path d=\"M18.56 5.44l.94 2.06.94-2.06 2.06-.94-2.06-.94-.94-2.06-.94 2.06-2.06.94zm-11 1L8.5 8.5l.94-2.06 2.06-.94-2.06-.94L8.5 2.5l-.94 2.06-2.06.94zm10 10l.94 2.06.94-2.06 2.06-.94-2.06-.94-.94-2.06-.94 2.06-2.06.94z\"/><path d=\"M17.41 7.96l-1.37-1.37c-.4-.4-.92-.59-1.43-.59-.52 0-1.04.2-1.43.59L10.3 9.45l-7.72 7.72c-.78.78-.78 2.05 0 2.83L4 21.41c.39.39.9.59 1.41.59.51 0 1.02-.2 1.41-.59l7.78-7.78 2.81-2.81c.8-.78.8-2.07 0-2.86zM5.41 20L4 18.59l7.72-7.72 1.47 1.35L5.41 20z\"/>\n",
              "  </svg>\n",
              "      </button>\n",
              "      \n",
              "  <style>\n",
              "    .colab-df-container {\n",
              "      display:flex;\n",
              "      flex-wrap:wrap;\n",
              "      gap: 12px;\n",
              "    }\n",
              "\n",
              "    .colab-df-convert {\n",
              "      background-color: #E8F0FE;\n",
              "      border: none;\n",
              "      border-radius: 50%;\n",
              "      cursor: pointer;\n",
              "      display: none;\n",
              "      fill: #1967D2;\n",
              "      height: 32px;\n",
              "      padding: 0 0 0 0;\n",
              "      width: 32px;\n",
              "    }\n",
              "\n",
              "    .colab-df-convert:hover {\n",
              "      background-color: #E2EBFA;\n",
              "      box-shadow: 0px 1px 2px rgba(60, 64, 67, 0.3), 0px 1px 3px 1px rgba(60, 64, 67, 0.15);\n",
              "      fill: #174EA6;\n",
              "    }\n",
              "\n",
              "    [theme=dark] .colab-df-convert {\n",
              "      background-color: #3B4455;\n",
              "      fill: #D2E3FC;\n",
              "    }\n",
              "\n",
              "    [theme=dark] .colab-df-convert:hover {\n",
              "      background-color: #434B5C;\n",
              "      box-shadow: 0px 1px 3px 1px rgba(0, 0, 0, 0.15);\n",
              "      filter: drop-shadow(0px 1px 2px rgba(0, 0, 0, 0.3));\n",
              "      fill: #FFFFFF;\n",
              "    }\n",
              "  </style>\n",
              "\n",
              "      <script>\n",
              "        const buttonEl =\n",
              "          document.querySelector('#df-6893a963-d8bf-445b-aaaa-254f5f2a58fd button.colab-df-convert');\n",
              "        buttonEl.style.display =\n",
              "          google.colab.kernel.accessAllowed ? 'block' : 'none';\n",
              "\n",
              "        async function convertToInteractive(key) {\n",
              "          const element = document.querySelector('#df-6893a963-d8bf-445b-aaaa-254f5f2a58fd');\n",
              "          const dataTable =\n",
              "            await google.colab.kernel.invokeFunction('convertToInteractive',\n",
              "                                                     [key], {});\n",
              "          if (!dataTable) return;\n",
              "\n",
              "          const docLinkHtml = 'Like what you see? Visit the ' +\n",
              "            '<a target=\"_blank\" href=https://colab.research.google.com/notebooks/data_table.ipynb>data table notebook</a>'\n",
              "            + ' to learn more about interactive tables.';\n",
              "          element.innerHTML = '';\n",
              "          dataTable['output_type'] = 'display_data';\n",
              "          await google.colab.output.renderOutput(dataTable, element);\n",
              "          const docLink = document.createElement('div');\n",
              "          docLink.innerHTML = docLinkHtml;\n",
              "          element.appendChild(docLink);\n",
              "        }\n",
              "      </script>\n",
              "    </div>\n",
              "  </div>\n",
              "  "
            ]
          },
          "metadata": {},
          "execution_count": 4
        }
      ]
    },
    {
      "cell_type": "code",
      "source": [
        "test_data"
      ],
      "metadata": {
        "colab": {
          "base_uri": "https://localhost:8080/",
          "height": 423
        },
        "id": "D3C2-H8EhbLC",
        "outputId": "d228395f-b083-4969-9967-8c60f277248c"
      },
      "execution_count": 5,
      "outputs": [
        {
          "output_type": "execute_result",
          "data": {
            "text/plain": [
              "      0    1    2    3      4      5      6      7      8      9    ...  \\\n",
              "0       9 -1.0 -1.0 -1.0 -1.000 -1.000 -0.948 -0.561  0.148  0.384  ...   \n",
              "1       6 -1.0 -1.0 -1.0 -1.000 -1.000 -1.000 -1.000 -1.000 -1.000  ...   \n",
              "2       3 -1.0 -1.0 -1.0 -0.593  0.700  1.000  1.000  1.000  1.000  ...   \n",
              "3       6 -1.0 -1.0 -1.0 -1.000 -1.000 -1.000 -1.000 -1.000 -1.000  ...   \n",
              "4       6 -1.0 -1.0 -1.0 -1.000 -1.000 -1.000 -1.000 -0.858 -0.106  ...   \n",
              "...   ...  ...  ...  ...    ...    ...    ...    ...    ...    ...  ...   \n",
              "2002    3 -1.0 -1.0 -1.0 -1.000 -1.000 -0.417  0.814  1.000  0.775  ...   \n",
              "2003    9 -1.0 -1.0 -1.0 -1.000 -1.000 -1.000 -0.855  0.209  0.941  ...   \n",
              "2004    4 -1.0 -1.0 -1.0 -1.000 -0.031  0.752 -0.431 -1.000 -1.000  ...   \n",
              "2005    0 -1.0 -1.0 -1.0 -1.000 -0.534  0.578  1.000  0.301 -0.328  ...   \n",
              "2006    1 -1.0 -1.0 -1.0 -1.000 -1.000 -1.000 -1.000  0.399  0.949  ...   \n",
              "\n",
              "        247    248    249    250    251    252  253  254  255  256  \n",
              "0    -1.000 -0.908  0.430  0.622 -0.973 -1.000 -1.0 -1.0 -1.0 -1.0  \n",
              "1    -1.000 -1.000 -1.000 -1.000 -1.000 -1.000 -1.0 -1.0 -1.0 -1.0  \n",
              "2     1.000  0.717  0.333  0.162 -0.393 -1.000 -1.0 -1.0 -1.0 -1.0  \n",
              "3    -1.000 -1.000 -1.000 -1.000 -1.000 -1.000 -1.0 -1.0 -1.0 -1.0  \n",
              "4     0.901  0.901  0.901  0.290 -0.369 -0.867 -1.0 -1.0 -1.0 -1.0  \n",
              "...     ...    ...    ...    ...    ...    ...  ...  ...  ...  ...  \n",
              "2002  1.000  1.000  0.554  0.184 -0.484 -1.000 -1.0 -1.0 -1.0 -1.0  \n",
              "2003 -1.000  0.319  1.000  0.056 -1.000 -1.000 -1.0 -1.0 -1.0 -1.0  \n",
              "2004  1.000  0.928 -0.393 -1.000 -1.000 -1.000 -1.0 -1.0 -1.0 -1.0  \n",
              "2005  1.000  0.430  0.200 -0.061 -0.975 -1.000 -1.0 -1.0 -1.0 -1.0  \n",
              "2006 -1.000 -0.505  0.907  0.655 -0.950 -1.000 -1.0 -1.0 -1.0 -1.0  \n",
              "\n",
              "[2007 rows x 257 columns]"
            ],
            "text/html": [
              "\n",
              "  <div id=\"df-6f8888a7-46e2-4745-88a2-dd97eca50f38\">\n",
              "    <div class=\"colab-df-container\">\n",
              "      <div>\n",
              "<style scoped>\n",
              "    .dataframe tbody tr th:only-of-type {\n",
              "        vertical-align: middle;\n",
              "    }\n",
              "\n",
              "    .dataframe tbody tr th {\n",
              "        vertical-align: top;\n",
              "    }\n",
              "\n",
              "    .dataframe thead th {\n",
              "        text-align: right;\n",
              "    }\n",
              "</style>\n",
              "<table border=\"1\" class=\"dataframe\">\n",
              "  <thead>\n",
              "    <tr style=\"text-align: right;\">\n",
              "      <th></th>\n",
              "      <th>0</th>\n",
              "      <th>1</th>\n",
              "      <th>2</th>\n",
              "      <th>3</th>\n",
              "      <th>4</th>\n",
              "      <th>5</th>\n",
              "      <th>6</th>\n",
              "      <th>7</th>\n",
              "      <th>8</th>\n",
              "      <th>9</th>\n",
              "      <th>...</th>\n",
              "      <th>247</th>\n",
              "      <th>248</th>\n",
              "      <th>249</th>\n",
              "      <th>250</th>\n",
              "      <th>251</th>\n",
              "      <th>252</th>\n",
              "      <th>253</th>\n",
              "      <th>254</th>\n",
              "      <th>255</th>\n",
              "      <th>256</th>\n",
              "    </tr>\n",
              "  </thead>\n",
              "  <tbody>\n",
              "    <tr>\n",
              "      <th>0</th>\n",
              "      <td>9</td>\n",
              "      <td>-1.0</td>\n",
              "      <td>-1.0</td>\n",
              "      <td>-1.0</td>\n",
              "      <td>-1.000</td>\n",
              "      <td>-1.000</td>\n",
              "      <td>-0.948</td>\n",
              "      <td>-0.561</td>\n",
              "      <td>0.148</td>\n",
              "      <td>0.384</td>\n",
              "      <td>...</td>\n",
              "      <td>-1.000</td>\n",
              "      <td>-0.908</td>\n",
              "      <td>0.430</td>\n",
              "      <td>0.622</td>\n",
              "      <td>-0.973</td>\n",
              "      <td>-1.000</td>\n",
              "      <td>-1.0</td>\n",
              "      <td>-1.0</td>\n",
              "      <td>-1.0</td>\n",
              "      <td>-1.0</td>\n",
              "    </tr>\n",
              "    <tr>\n",
              "      <th>1</th>\n",
              "      <td>6</td>\n",
              "      <td>-1.0</td>\n",
              "      <td>-1.0</td>\n",
              "      <td>-1.0</td>\n",
              "      <td>-1.000</td>\n",
              "      <td>-1.000</td>\n",
              "      <td>-1.000</td>\n",
              "      <td>-1.000</td>\n",
              "      <td>-1.000</td>\n",
              "      <td>-1.000</td>\n",
              "      <td>...</td>\n",
              "      <td>-1.000</td>\n",
              "      <td>-1.000</td>\n",
              "      <td>-1.000</td>\n",
              "      <td>-1.000</td>\n",
              "      <td>-1.000</td>\n",
              "      <td>-1.000</td>\n",
              "      <td>-1.0</td>\n",
              "      <td>-1.0</td>\n",
              "      <td>-1.0</td>\n",
              "      <td>-1.0</td>\n",
              "    </tr>\n",
              "    <tr>\n",
              "      <th>2</th>\n",
              "      <td>3</td>\n",
              "      <td>-1.0</td>\n",
              "      <td>-1.0</td>\n",
              "      <td>-1.0</td>\n",
              "      <td>-0.593</td>\n",
              "      <td>0.700</td>\n",
              "      <td>1.000</td>\n",
              "      <td>1.000</td>\n",
              "      <td>1.000</td>\n",
              "      <td>1.000</td>\n",
              "      <td>...</td>\n",
              "      <td>1.000</td>\n",
              "      <td>0.717</td>\n",
              "      <td>0.333</td>\n",
              "      <td>0.162</td>\n",
              "      <td>-0.393</td>\n",
              "      <td>-1.000</td>\n",
              "      <td>-1.0</td>\n",
              "      <td>-1.0</td>\n",
              "      <td>-1.0</td>\n",
              "      <td>-1.0</td>\n",
              "    </tr>\n",
              "    <tr>\n",
              "      <th>3</th>\n",
              "      <td>6</td>\n",
              "      <td>-1.0</td>\n",
              "      <td>-1.0</td>\n",
              "      <td>-1.0</td>\n",
              "      <td>-1.000</td>\n",
              "      <td>-1.000</td>\n",
              "      <td>-1.000</td>\n",
              "      <td>-1.000</td>\n",
              "      <td>-1.000</td>\n",
              "      <td>-1.000</td>\n",
              "      <td>...</td>\n",
              "      <td>-1.000</td>\n",
              "      <td>-1.000</td>\n",
              "      <td>-1.000</td>\n",
              "      <td>-1.000</td>\n",
              "      <td>-1.000</td>\n",
              "      <td>-1.000</td>\n",
              "      <td>-1.0</td>\n",
              "      <td>-1.0</td>\n",
              "      <td>-1.0</td>\n",
              "      <td>-1.0</td>\n",
              "    </tr>\n",
              "    <tr>\n",
              "      <th>4</th>\n",
              "      <td>6</td>\n",
              "      <td>-1.0</td>\n",
              "      <td>-1.0</td>\n",
              "      <td>-1.0</td>\n",
              "      <td>-1.000</td>\n",
              "      <td>-1.000</td>\n",
              "      <td>-1.000</td>\n",
              "      <td>-1.000</td>\n",
              "      <td>-0.858</td>\n",
              "      <td>-0.106</td>\n",
              "      <td>...</td>\n",
              "      <td>0.901</td>\n",
              "      <td>0.901</td>\n",
              "      <td>0.901</td>\n",
              "      <td>0.290</td>\n",
              "      <td>-0.369</td>\n",
              "      <td>-0.867</td>\n",
              "      <td>-1.0</td>\n",
              "      <td>-1.0</td>\n",
              "      <td>-1.0</td>\n",
              "      <td>-1.0</td>\n",
              "    </tr>\n",
              "    <tr>\n",
              "      <th>...</th>\n",
              "      <td>...</td>\n",
              "      <td>...</td>\n",
              "      <td>...</td>\n",
              "      <td>...</td>\n",
              "      <td>...</td>\n",
              "      <td>...</td>\n",
              "      <td>...</td>\n",
              "      <td>...</td>\n",
              "      <td>...</td>\n",
              "      <td>...</td>\n",
              "      <td>...</td>\n",
              "      <td>...</td>\n",
              "      <td>...</td>\n",
              "      <td>...</td>\n",
              "      <td>...</td>\n",
              "      <td>...</td>\n",
              "      <td>...</td>\n",
              "      <td>...</td>\n",
              "      <td>...</td>\n",
              "      <td>...</td>\n",
              "      <td>...</td>\n",
              "    </tr>\n",
              "    <tr>\n",
              "      <th>2002</th>\n",
              "      <td>3</td>\n",
              "      <td>-1.0</td>\n",
              "      <td>-1.0</td>\n",
              "      <td>-1.0</td>\n",
              "      <td>-1.000</td>\n",
              "      <td>-1.000</td>\n",
              "      <td>-0.417</td>\n",
              "      <td>0.814</td>\n",
              "      <td>1.000</td>\n",
              "      <td>0.775</td>\n",
              "      <td>...</td>\n",
              "      <td>1.000</td>\n",
              "      <td>1.000</td>\n",
              "      <td>0.554</td>\n",
              "      <td>0.184</td>\n",
              "      <td>-0.484</td>\n",
              "      <td>-1.000</td>\n",
              "      <td>-1.0</td>\n",
              "      <td>-1.0</td>\n",
              "      <td>-1.0</td>\n",
              "      <td>-1.0</td>\n",
              "    </tr>\n",
              "    <tr>\n",
              "      <th>2003</th>\n",
              "      <td>9</td>\n",
              "      <td>-1.0</td>\n",
              "      <td>-1.0</td>\n",
              "      <td>-1.0</td>\n",
              "      <td>-1.000</td>\n",
              "      <td>-1.000</td>\n",
              "      <td>-1.000</td>\n",
              "      <td>-0.855</td>\n",
              "      <td>0.209</td>\n",
              "      <td>0.941</td>\n",
              "      <td>...</td>\n",
              "      <td>-1.000</td>\n",
              "      <td>0.319</td>\n",
              "      <td>1.000</td>\n",
              "      <td>0.056</td>\n",
              "      <td>-1.000</td>\n",
              "      <td>-1.000</td>\n",
              "      <td>-1.0</td>\n",
              "      <td>-1.0</td>\n",
              "      <td>-1.0</td>\n",
              "      <td>-1.0</td>\n",
              "    </tr>\n",
              "    <tr>\n",
              "      <th>2004</th>\n",
              "      <td>4</td>\n",
              "      <td>-1.0</td>\n",
              "      <td>-1.0</td>\n",
              "      <td>-1.0</td>\n",
              "      <td>-1.000</td>\n",
              "      <td>-0.031</td>\n",
              "      <td>0.752</td>\n",
              "      <td>-0.431</td>\n",
              "      <td>-1.000</td>\n",
              "      <td>-1.000</td>\n",
              "      <td>...</td>\n",
              "      <td>1.000</td>\n",
              "      <td>0.928</td>\n",
              "      <td>-0.393</td>\n",
              "      <td>-1.000</td>\n",
              "      <td>-1.000</td>\n",
              "      <td>-1.000</td>\n",
              "      <td>-1.0</td>\n",
              "      <td>-1.0</td>\n",
              "      <td>-1.0</td>\n",
              "      <td>-1.0</td>\n",
              "    </tr>\n",
              "    <tr>\n",
              "      <th>2005</th>\n",
              "      <td>0</td>\n",
              "      <td>-1.0</td>\n",
              "      <td>-1.0</td>\n",
              "      <td>-1.0</td>\n",
              "      <td>-1.000</td>\n",
              "      <td>-0.534</td>\n",
              "      <td>0.578</td>\n",
              "      <td>1.000</td>\n",
              "      <td>0.301</td>\n",
              "      <td>-0.328</td>\n",
              "      <td>...</td>\n",
              "      <td>1.000</td>\n",
              "      <td>0.430</td>\n",
              "      <td>0.200</td>\n",
              "      <td>-0.061</td>\n",
              "      <td>-0.975</td>\n",
              "      <td>-1.000</td>\n",
              "      <td>-1.0</td>\n",
              "      <td>-1.0</td>\n",
              "      <td>-1.0</td>\n",
              "      <td>-1.0</td>\n",
              "    </tr>\n",
              "    <tr>\n",
              "      <th>2006</th>\n",
              "      <td>1</td>\n",
              "      <td>-1.0</td>\n",
              "      <td>-1.0</td>\n",
              "      <td>-1.0</td>\n",
              "      <td>-1.000</td>\n",
              "      <td>-1.000</td>\n",
              "      <td>-1.000</td>\n",
              "      <td>-1.000</td>\n",
              "      <td>0.399</td>\n",
              "      <td>0.949</td>\n",
              "      <td>...</td>\n",
              "      <td>-1.000</td>\n",
              "      <td>-0.505</td>\n",
              "      <td>0.907</td>\n",
              "      <td>0.655</td>\n",
              "      <td>-0.950</td>\n",
              "      <td>-1.000</td>\n",
              "      <td>-1.0</td>\n",
              "      <td>-1.0</td>\n",
              "      <td>-1.0</td>\n",
              "      <td>-1.0</td>\n",
              "    </tr>\n",
              "  </tbody>\n",
              "</table>\n",
              "<p>2007 rows × 257 columns</p>\n",
              "</div>\n",
              "      <button class=\"colab-df-convert\" onclick=\"convertToInteractive('df-6f8888a7-46e2-4745-88a2-dd97eca50f38')\"\n",
              "              title=\"Convert this dataframe to an interactive table.\"\n",
              "              style=\"display:none;\">\n",
              "        \n",
              "  <svg xmlns=\"http://www.w3.org/2000/svg\" height=\"24px\"viewBox=\"0 0 24 24\"\n",
              "       width=\"24px\">\n",
              "    <path d=\"M0 0h24v24H0V0z\" fill=\"none\"/>\n",
              "    <path d=\"M18.56 5.44l.94 2.06.94-2.06 2.06-.94-2.06-.94-.94-2.06-.94 2.06-2.06.94zm-11 1L8.5 8.5l.94-2.06 2.06-.94-2.06-.94L8.5 2.5l-.94 2.06-2.06.94zm10 10l.94 2.06.94-2.06 2.06-.94-2.06-.94-.94-2.06-.94 2.06-2.06.94z\"/><path d=\"M17.41 7.96l-1.37-1.37c-.4-.4-.92-.59-1.43-.59-.52 0-1.04.2-1.43.59L10.3 9.45l-7.72 7.72c-.78.78-.78 2.05 0 2.83L4 21.41c.39.39.9.59 1.41.59.51 0 1.02-.2 1.41-.59l7.78-7.78 2.81-2.81c.8-.78.8-2.07 0-2.86zM5.41 20L4 18.59l7.72-7.72 1.47 1.35L5.41 20z\"/>\n",
              "  </svg>\n",
              "      </button>\n",
              "      \n",
              "  <style>\n",
              "    .colab-df-container {\n",
              "      display:flex;\n",
              "      flex-wrap:wrap;\n",
              "      gap: 12px;\n",
              "    }\n",
              "\n",
              "    .colab-df-convert {\n",
              "      background-color: #E8F0FE;\n",
              "      border: none;\n",
              "      border-radius: 50%;\n",
              "      cursor: pointer;\n",
              "      display: none;\n",
              "      fill: #1967D2;\n",
              "      height: 32px;\n",
              "      padding: 0 0 0 0;\n",
              "      width: 32px;\n",
              "    }\n",
              "\n",
              "    .colab-df-convert:hover {\n",
              "      background-color: #E2EBFA;\n",
              "      box-shadow: 0px 1px 2px rgba(60, 64, 67, 0.3), 0px 1px 3px 1px rgba(60, 64, 67, 0.15);\n",
              "      fill: #174EA6;\n",
              "    }\n",
              "\n",
              "    [theme=dark] .colab-df-convert {\n",
              "      background-color: #3B4455;\n",
              "      fill: #D2E3FC;\n",
              "    }\n",
              "\n",
              "    [theme=dark] .colab-df-convert:hover {\n",
              "      background-color: #434B5C;\n",
              "      box-shadow: 0px 1px 3px 1px rgba(0, 0, 0, 0.15);\n",
              "      filter: drop-shadow(0px 1px 2px rgba(0, 0, 0, 0.3));\n",
              "      fill: #FFFFFF;\n",
              "    }\n",
              "  </style>\n",
              "\n",
              "      <script>\n",
              "        const buttonEl =\n",
              "          document.querySelector('#df-6f8888a7-46e2-4745-88a2-dd97eca50f38 button.colab-df-convert');\n",
              "        buttonEl.style.display =\n",
              "          google.colab.kernel.accessAllowed ? 'block' : 'none';\n",
              "\n",
              "        async function convertToInteractive(key) {\n",
              "          const element = document.querySelector('#df-6f8888a7-46e2-4745-88a2-dd97eca50f38');\n",
              "          const dataTable =\n",
              "            await google.colab.kernel.invokeFunction('convertToInteractive',\n",
              "                                                     [key], {});\n",
              "          if (!dataTable) return;\n",
              "\n",
              "          const docLinkHtml = 'Like what you see? Visit the ' +\n",
              "            '<a target=\"_blank\" href=https://colab.research.google.com/notebooks/data_table.ipynb>data table notebook</a>'\n",
              "            + ' to learn more about interactive tables.';\n",
              "          element.innerHTML = '';\n",
              "          dataTable['output_type'] = 'display_data';\n",
              "          await google.colab.output.renderOutput(dataTable, element);\n",
              "          const docLink = document.createElement('div');\n",
              "          docLink.innerHTML = docLinkHtml;\n",
              "          element.appendChild(docLink);\n",
              "        }\n",
              "      </script>\n",
              "    </div>\n",
              "  </div>\n",
              "  "
            ]
          },
          "metadata": {},
          "execution_count": 5
        }
      ]
    },
    {
      "cell_type": "code",
      "source": [
        "X_train=np.array(train_data[range(256)])\n",
        "y_train=np.array(train_data.index)\n",
        "\n",
        "y_test=np.array(test_data[0])\n",
        "X_test=np.array(test_data[range(1,257)])"
      ],
      "metadata": {
        "id": "7qjbXX44fFM7"
      },
      "execution_count": 5,
      "outputs": []
    },
    {
      "cell_type": "code",
      "source": [
        "X_train"
      ],
      "metadata": {
        "colab": {
          "base_uri": "https://localhost:8080/"
        },
        "id": "4N7CA-z-faax",
        "outputId": "78395fa5-7591-40fb-8121-c91b64eff337"
      },
      "execution_count": 7,
      "outputs": [
        {
          "output_type": "execute_result",
          "data": {
            "text/plain": [
              "array([[-1.   , -1.   , -1.   , ..., -1.   , -1.   , -1.   ],\n",
              "       [-1.   , -1.   , -1.   , ..., -0.671, -0.828, -1.   ],\n",
              "       [-1.   , -1.   , -1.   , ..., -1.   , -1.   , -1.   ],\n",
              "       ...,\n",
              "       [-1.   , -1.   , -1.   , ..., -1.   , -1.   , -1.   ],\n",
              "       [-1.   , -1.   , -1.   , ..., -1.   , -1.   , -1.   ],\n",
              "       [-1.   , -1.   , -1.   , ..., -1.   , -1.   , -1.   ]])"
            ]
          },
          "metadata": {},
          "execution_count": 7
        }
      ]
    },
    {
      "cell_type": "code",
      "source": [
        "y_train"
      ],
      "metadata": {
        "colab": {
          "base_uri": "https://localhost:8080/"
        },
        "id": "rOuygUQShLDI",
        "outputId": "27bcc252-11a9-45e4-f528-9b98edd9260e"
      },
      "execution_count": 8,
      "outputs": [
        {
          "output_type": "execute_result",
          "data": {
            "text/plain": [
              "array([6., 5., 4., ..., 3., 0., 1.])"
            ]
          },
          "metadata": {},
          "execution_count": 8
        }
      ]
    },
    {
      "cell_type": "code",
      "source": [
        "#Reshape the image data into 16x16 format\n",
        "X_train2d=X_train.reshape((y_train.size,16,16))\n",
        "X_test2d=X_test.reshape((y_test.size,16,16))"
      ],
      "metadata": {
        "id": "EgHFBk56-ghY"
      },
      "execution_count": null,
      "outputs": []
    },
    {
      "cell_type": "markdown",
      "source": [
        "Let us plot the first five images of the train dataset:"
      ],
      "metadata": {
        "id": "y_4fh9P7_QAu"
      }
    },
    {
      "cell_type": "code",
      "source": [
        "def plot_digit(d):\n",
        "  plt.subplot(111)\n",
        "  plt.imshow(np.abs(d.reshape(16,16)), cmap = 'gray')\n",
        "  plt.xticks([]), plt.yticks([])\n",
        "  plt.show()"
      ],
      "metadata": {
        "id": "FxfaBe_F-itp"
      },
      "execution_count": 39,
      "outputs": []
    },
    {
      "cell_type": "code",
      "source": [
        "for i in range(3):\n",
        "  plot_digit(X_train[i])\n"
      ],
      "metadata": {
        "colab": {
          "base_uri": "https://localhost:8080/",
          "height": 722
        },
        "id": "_CxqG2WB_FBK",
        "outputId": "15a9ae68-ce9e-4032-c825-86beb4aebe26"
      },
      "execution_count": 38,
      "outputs": [
        {
          "output_type": "display_data",
          "data": {
            "text/plain": [
              "<Figure size 432x288 with 1 Axes>"
            ],
            "image/png": "[encoded data removed]"
          },
          "metadata": {}
        },
        {
          "output_type": "display_data",
          "data": {
            "text/plain": [
              "<Figure size 432x288 with 1 Axes>"
            ],
            "image/png": "[encoded data removed]"
          },
          "metadata": {}
        },
        {
          "output_type": "display_data",
          "data": {
            "text/plain": [
              "<Figure size 432x288 with 1 Axes>"
            ],
            "image/png": "[encoded data removed]"
          },
          "metadata": {}
        }
      ]
    },
    {
      "cell_type": "markdown",
      "source": [
        "# 2. K Nearest Neighbors"
      ],
      "metadata": {
        "id": "YlKGy4tJhxRO"
      }
    },
    {
      "cell_type": "code",
      "source": [
        "from sklearn.neighbors import KNeighborsClassifier\n",
        "\n",
        "ks = [1,3,4,5,7,10,15]\n",
        "scores=[]\n",
        "for k in ks:\n",
        "  neigh = KNeighborsClassifier(n_neighbors=k)\n",
        "  neigh.fit(X_train, y_train)\n",
        "  score = neigh.score(X_test, y_test)\n",
        "  scores += [score]\n",
        "  print(\"Accuracy for k = \", k, \" is \", score)\n",
        "scores = pd.DataFrame({'k': ks, 'score': scores})"
      ],
      "metadata": {
        "colab": {
          "base_uri": "https://localhost:8080/"
        },
        "id": "yPOy4ks8feiS",
        "outputId": "3bee0354-6d72-4866-9384-c7e3eff8dc40"
      },
      "execution_count": 9,
      "outputs": [
        {
          "output_type": "stream",
          "name": "stdout",
          "text": [
            "Accuracy for k =  1  is  0.9436970602889886\n",
            "Accuracy for k =  3  is  0.9446935724962631\n",
            "Accuracy for k =  4  is  0.9431988041853513\n",
            "Accuracy for k =  5  is  0.9446935724962631\n",
            "Accuracy for k =  7  is  0.9417040358744395\n",
            "Accuracy for k =  10  is  0.9357249626307922\n",
            "Accuracy for k =  15  is  0.9302441454907823\n"
          ]
        }
      ]
    },
    {
      "cell_type": "code",
      "source": [
        "import matplotlib.pyplot as plt\n",
        "import seaborn as sns\n",
        "\n",
        "sns.lineplot(data = scores, x = 'k', y = 'score')"
      ],
      "metadata": {
        "colab": {
          "base_uri": "https://localhost:8080/",
          "height": 297
        },
        "id": "-7F2ezGch8oL",
        "outputId": "f26f01c4-36e9-4c41-d05b-1b7b8a1afca7"
      },
      "execution_count": 10,
      "outputs": [
        {
          "output_type": "execute_result",
          "data": {
            "text/plain": [
              "<matplotlib.axes._subplots.AxesSubplot at 0x7faaa9bac750>"
            ]
          },
          "metadata": {},
          "execution_count": 10
        },
        {
          "output_type": "display_data",
          "data": {
            "text/plain": [
              "<Figure size 432x288 with 1 Axes>"
            ],
            "image/png": "[encoded data removed]"
          },
          "metadata": {
            "needs_background": "light"
          }
        }
      ]
    },
    {
      "cell_type": "code",
      "source": [
        "neigh.predict(X_test)"
      ],
      "metadata": {
        "colab": {
          "base_uri": "https://localhost:8080/"
        },
        "id": "MJhRtp6yhR4Y",
        "outputId": "af440f7c-1f57-4a6e-c035-c989397de5e5"
      },
      "execution_count": 11,
      "outputs": [
        {
          "output_type": "execute_result",
          "data": {
            "text/plain": [
              "array([9., 6., 3., ..., 4., 0., 1.])"
            ]
          },
          "metadata": {},
          "execution_count": 11
        }
      ]
    },
    {
      "cell_type": "code",
      "source": [
        "y_test"
      ],
      "metadata": {
        "colab": {
          "base_uri": "https://localhost:8080/"
        },
        "id": "LYksxfkGhXtl",
        "outputId": "ba27e0a5-2fd1-4bea-e772-2eabc2eefe24"
      },
      "execution_count": 12,
      "outputs": [
        {
          "output_type": "execute_result",
          "data": {
            "text/plain": [
              "array([9, 6, 3, ..., 4, 0, 1])"
            ]
          },
          "metadata": {},
          "execution_count": 12
        }
      ]
    },
    {
      "cell_type": "markdown",
      "source": [
        "# 3. Linear regression"
      ],
      "metadata": {
        "id": "Ms7QBScDhs0K"
      }
    },
    {
      "cell_type": "code",
      "source": [
        "from sklearn.linear_model import RidgeClassifier\n",
        "\n",
        "regression = RidgeClassifier(alpha = 150)\n",
        "\n",
        "regression.fit(X_train, y_train)\n",
        "\n",
        "\n",
        "print(\"Linear regression train accuracy:\",regression.score(X_train, y_train))\n",
        "print(\"Linear regression test accuracy:\",regression.score(X_test, y_test))"
      ],
      "metadata": {
        "colab": {
          "base_uri": "https://localhost:8080/"
        },
        "id": "XRpGutICjk6N",
        "outputId": "3096eb76-07e0-4052-b691-88a72831d246"
      },
      "execution_count": 13,
      "outputs": [
        {
          "output_type": "stream",
          "name": "stdout",
          "text": [
            "Linear regression train accuracy: 0.919078315731724\n",
            "Linear regression test accuracy: 0.874439461883408\n"
          ]
        }
      ]
    },
    {
      "cell_type": "code",
      "source": [
        "regression.predict(X_test)"
      ],
      "metadata": {
        "colab": {
          "base_uri": "https://localhost:8080/"
        },
        "id": "V-LmDhf8q4Y6",
        "outputId": "2c563f2a-7007-49fd-f9cb-4245a66cafd1"
      },
      "execution_count": 14,
      "outputs": [
        {
          "output_type": "execute_result",
          "data": {
            "text/plain": [
              "array([9., 6., 3., ..., 4., 0., 1.])"
            ]
          },
          "metadata": {},
          "execution_count": 14
        }
      ]
    },
    {
      "cell_type": "markdown",
      "source": [
        "# 4. Neural network (MLPClassifier)\n",
        "\n"
      ],
      "metadata": {
        "id": "dgSDSp6-k9d7"
      }
    },
    {
      "cell_type": "code",
      "source": [
        "from sklearn.neural_network import MLPClassifier\n",
        "\n",
        "clf = MLPClassifier(solver='lbfgs', alpha=1, hidden_layer_sizes=(60, 60))\n",
        "\n",
        "clf.fit(X_train, y_train)\n",
        "\n",
        "clf.score(X_test, y_test)"
      ],
      "metadata": {
        "colab": {
          "base_uri": "https://localhost:8080/"
        },
        "id": "In7Ye3Nok8cf",
        "outputId": "d894417b-f494-4df5-8a13-df647541cc33"
      },
      "execution_count": 15,
      "outputs": [
        {
          "output_type": "execute_result",
          "data": {
            "text/plain": [
              "0.9417040358744395"
            ]
          },
          "metadata": {},
          "execution_count": 15
        }
      ]
    },
    {
      "cell_type": "code",
      "source": [
        "clf.predict(X_test)"
      ],
      "metadata": {
        "colab": {
          "base_uri": "https://localhost:8080/"
        },
        "id": "wuPkO0rppcM9",
        "outputId": "d2286c1c-cf9b-44ec-eeac-7480ca60b8ed"
      },
      "execution_count": 16,
      "outputs": [
        {
          "output_type": "execute_result",
          "data": {
            "text/plain": [
              "array([9., 6., 3., ..., 4., 0., 1.])"
            ]
          },
          "metadata": {},
          "execution_count": 16
        }
      ]
    },
    {
      "cell_type": "markdown",
      "source": [
        "# 5. Convolutional neural network (Keras)"
      ],
      "metadata": {
        "id": "VDAt13SNrccm"
      }
    },
    {
      "cell_type": "code",
      "source": [
        "#Reshape the image data into 16x16 format\n",
        "X_train2d=X_train.reshape((y_train.size,16,16))\n",
        "X_test2d=X_test.reshape((y_test.size,16,16))"
      ],
      "metadata": {
        "id": "KvWBZzJo5H1S"
      },
      "execution_count": 6,
      "outputs": []
    },
    {
      "cell_type": "code",
      "source": [
        "\n",
        "from tensorflow import keras\n",
        "from tensorflow.keras import layers\n",
        "\n",
        "from keras.models import Sequential\n",
        "from keras.layers import Conv2D, MaxPooling2D\n",
        "from keras.layers import Activation, Dropout, Flatten, Dense\n",
        "from keras import backend as K"
      ],
      "metadata": {
        "id": "BHxYMZVJrc8L"
      },
      "execution_count": 7,
      "outputs": []
    },
    {
      "cell_type": "code",
      "source": [
        "model = Sequential()\n",
        "\n",
        "model.add(Conv2D(32, (2,2), input_shape=(16,16,1)))\n",
        "model.add(Activation('relu'))\n",
        "model.add(MaxPooling2D(pool_size=(2, 2)))\n",
        "\n",
        "model.add(Conv2D(32, (2, 2)))\n",
        "model.add(Activation('relu'))\n",
        "model.add(MaxPooling2D(pool_size=(2, 2)))\n",
        " \n",
        "\n",
        "model.add(Flatten())\n",
        "\n",
        "model.add(Dense(64))\n",
        "model.add(Activation('relu'))\n",
        "model.add(Dropout(0.5))\n",
        "\n",
        "model.add(Dense(10))\n",
        "model.add(Activation('sigmoid'))\n",
        "\n",
        "opt = keras.optimizers.Adam(learning_rate=0.005)\n",
        "\n",
        "model.compile(optimizer=opt, loss=\"sparse_categorical_crossentropy\", metrics=['accuracy'])"
      ],
      "metadata": {
        "id": "5wECYvqfrkKF"
      },
      "execution_count": 83,
      "outputs": []
    },
    {
      "cell_type": "code",
      "source": [
        "model.fit(X_train2d, y_train, batch_size=64, epochs=10)"
      ],
      "metadata": {
        "colab": {
          "base_uri": "https://localhost:8080/"
        },
        "id": "-kd6CE_twUXJ",
        "outputId": "7750e362-db24-4c56-89c9-4b1a07f1beb0"
      },
      "execution_count": 84,
      "outputs": [
        {
          "output_type": "stream",
          "name": "stdout",
          "text": [
            "Epoch 1/10\n",
            "114/114 [==============================] - 2s 14ms/step - loss: 0.8084 - accuracy: 0.7331\n",
            "Epoch 2/10\n",
            "114/114 [==============================] - 2s 14ms/step - loss: 0.2987 - accuracy: 0.9092\n",
            "Epoch 3/10\n",
            "114/114 [==============================] - 2s 14ms/step - loss: 0.2086 - accuracy: 0.9317\n",
            "Epoch 4/10\n",
            "114/114 [==============================] - 2s 14ms/step - loss: 0.1692 - accuracy: 0.9480\n",
            "Epoch 5/10\n",
            "114/114 [==============================] - 2s 14ms/step - loss: 0.1499 - accuracy: 0.9502\n",
            "Epoch 6/10\n",
            "114/114 [==============================] - 2s 14ms/step - loss: 0.1378 - accuracy: 0.9554\n",
            "Epoch 7/10\n",
            "114/114 [==============================] - 2s 14ms/step - loss: 0.1199 - accuracy: 0.9616\n",
            "Epoch 8/10\n",
            "114/114 [==============================] - 2s 14ms/step - loss: 0.1050 - accuracy: 0.9652\n",
            "Epoch 9/10\n",
            "114/114 [==============================] - 2s 14ms/step - loss: 0.1028 - accuracy: 0.9657\n",
            "Epoch 10/10\n",
            "114/114 [==============================] - 2s 14ms/step - loss: 0.0968 - accuracy: 0.9693\n"
          ]
        },
        {
          "output_type": "execute_result",
          "data": {
            "text/plain": [
              "<keras.callbacks.History at 0x7fa938468a10>"
            ]
          },
          "metadata": {},
          "execution_count": 84
        }
      ]
    },
    {
      "cell_type": "code",
      "source": [
        "model.evaluate(X_test2d, y_test)"
      ],
      "metadata": {
        "colab": {
          "base_uri": "https://localhost:8080/"
        },
        "id": "dKAZCb76xtW0",
        "outputId": "95e0632a-d39a-4261-db77-39f5bbc287f0"
      },
      "execution_count": 85,
      "outputs": [
        {
          "output_type": "stream",
          "name": "stdout",
          "text": [
            "63/63 [==============================] - 0s 4ms/step - loss: 0.1966 - accuracy: 0.9601\n"
          ]
        },
        {
          "output_type": "execute_result",
          "data": {
            "text/plain": [
              "[0.196559876203537, 0.9601395130157471]"
            ]
          },
          "metadata": {},
          "execution_count": 85
        }
      ]
    }
  ]
}
